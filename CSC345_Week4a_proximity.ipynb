{
  "nbformat": 4,
  "nbformat_minor": 0,
  "metadata": {
    "colab": {
      "name": "CSC345_Week4a_proximity.ipynb",
      "provenance": [],
      "collapsed_sections": [],
      "include_colab_link": true
    },
    "kernelspec": {
      "name": "python3",
      "display_name": "Python 3"
    },
    "language_info": {
      "name": "python"
    }
  },
  "cells": [
    {
      "cell_type": "markdown",
      "metadata": {
        "id": "view-in-github",
        "colab_type": "text"
      },
      "source": [
        "<a href=\"https://colab.research.google.com/github/jasonnonstop10/Datascilab/blob/main/CSC345_Week4a_proximity.ipynb\" target=\"_parent\"><img src=\"https://colab.research.google.com/assets/colab-badge.svg\" alt=\"Open In Colab\"/></a>"
      ]
    },
    {
      "cell_type": "code",
      "metadata": {
        "colab": {
          "base_uri": "https://localhost:8080/"
        },
        "id": "vunVAMjaIxeP",
        "outputId": "84840d27-234b-47fc-b480-8333fa365a3a"
      },
      "source": [
        "# CSC345 -- Week#4a -- mini-lab  -- Getting to know your data\n",
        "#                     Part1-- built-in various proximity-measures\n",
        "# \n",
        "# Ref: https://scikit-learn.org/stable/modules/generated/sklearn.neighbors.DistanceMetric.html\n",
        "#      See above web for the formula definition of each proximity measure\n",
        "#\n",
        "# Instruction:\n",
        "#          \n",
        "# 1) Try to edit the given code with other proximity parameters such as \n",
        "#    'cityblock', 'cosine', 'euclidean', 'manhattan', 'hamming', 'jaccard', \n",
        "#    'mahalanobis', 'chebyshev', 'canbera', 'matching', ...\n",
        "# 2) Guess/manually calculate the result before you run this code\n",
        "# 3) Run your code and compare the result for each type of proximity measure\n",
        "# 4) What are jaccard similarity of object(0,1) and jaccard of object(0,2)?\n",
        "#--------------------------------------\n",
        "#\n",
        "from sklearn.metrics import pairwise_distances\n",
        "import numpy as np\n",
        "\n",
        "\n",
        "x = np.asarray([[1,2,3],[6,7,8],[0,3,4]]) \n",
        "print('\\nManhattan =')\n",
        "m = pairwise_distances(x, x, 'manhattan')\n",
        "print(m)\n",
        "print('\\nEuclidean =')\n",
        "e = pairwise_distances(x, x, 'euclidean')\n",
        "print(e)\n",
        "print('\\nCosine =')\n",
        "c = pairwise_distances(x, x, 'cosine')\n",
        "print(c)\n"
      ],
      "execution_count": null,
      "outputs": [
        {
          "output_type": "stream",
          "name": "stdout",
          "text": [
            "\n",
            "Manhattan =\n",
            "[[ 0. 15.  3.]\n",
            " [15.  0. 14.]\n",
            " [ 3. 14.  0.]]\n",
            "\n",
            "Euclidean =\n",
            "[[0.         8.66025404 1.73205081]\n",
            " [8.66025404 0.         8.24621125]\n",
            " [1.73205081 8.24621125 0.        ]]\n",
            "\n",
            "Cosine =\n",
            "[[0.         0.03662466 0.03785953]\n",
            " [0.03662466 0.         0.13161416]\n",
            " [0.03785953 0.13161416 0.        ]]\n"
          ]
        }
      ]
    }
  ]
}