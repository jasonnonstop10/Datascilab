{
  "nbformat": 4,
  "nbformat_minor": 0,
  "metadata": {
    "colab": {
      "name": "CSC345_Week4b_entropy.ipynb",
      "provenance": [],
      "collapsed_sections": [],
      "include_colab_link": true
    },
    "kernelspec": {
      "name": "python3",
      "display_name": "Python 3"
    },
    "language_info": {
      "name": "python"
    }
  },
  "cells": [
    {
      "cell_type": "markdown",
      "metadata": {
        "id": "view-in-github",
        "colab_type": "text"
      },
      "source": [
        "<a href=\"https://colab.research.google.com/github/jasonnonstop10/Datascilab/blob/main/CSC345_Week4b_entropy.ipynb\" target=\"_parent\"><img src=\"https://colab.research.google.com/assets/colab-badge.svg\" alt=\"Open In Colab\"/></a>"
      ]
    },
    {
      "cell_type": "code",
      "metadata": {
        "colab": {
          "base_uri": "https://localhost:8080/"
        },
        "id": "WSo9WgYXkQON",
        "outputId": "bff363ed-146a-4761-c495-10fe56bb397c"
      },
      "source": [
        "# CSC345 -- Week#4b -- mini-lab  -- Calculate entropy for a dice roll\n",
        "#                     Part1-- built-in various proximity-measures\n",
        "#   Ref:  Ref: https://machinelearningmastery.com/what-is-information-entropy/\n",
        "#   Instruction: 1. Run the code and observe the answers of entropy from 2 methods\n",
        "#                2. Try to modify code to calculate entropy for following \n",
        "#                   probability distribution \n",
        "#                   2a) binary class of class Head= 1/2 and class Tail=1/2\n",
        "#                   2b) binary class of class Head= 1/4 and class Tail=3/4\n",
        "#                   2c) Three-classes of ClassA= 0.2, classB=0.3, classC=0.5\n",
        "#\n",
        "#-----------------------------------------------------------------\n",
        "# calculate the entropy for a dice roll -- method1 -- manual calculation\n",
        "#\n",
        "from math import log2\n",
        "# the number of events\n",
        "n = 2\n",
        "# probability of one event\n",
        "p = 1.0 /n\n",
        "# calculate entropy\n",
        "entropy = -sum([p * log2(p) for _ in range(n)])\n",
        "# print the result\n",
        "print('Method#1 (manual calculate) -- entropy: %.3f bits' % entropy)\n",
        "#\n",
        "# calculate the entropy for a dice roll -- method2 -- using scipy library\n",
        "# Ref: https://machinelearningmastery.com/what-is-information-entropy/\n",
        "#\n",
        "from scipy.stats import entropy\n",
        "# discrete probabilities\n",
        "p = [1/4,3/4]\n",
        "# calculate entropy\n",
        "e = entropy(p, base=2)\n",
        "# print the result\n",
        "print('\\nMethod#2 (using scipy) -- entropy: %.3f bits' % e)"
      ],
      "execution_count": 1,
      "outputs": [
        {
          "output_type": "stream",
          "name": "stdout",
          "text": [
            "Method#1 (manual calculate) -- entropy: 1.000 bits\n",
            "\n",
            "Method#2 (using scipy) -- entropy: 0.811 bits\n"
          ]
        }
      ]
    }
  ]
}